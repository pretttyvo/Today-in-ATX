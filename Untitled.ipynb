{
 "cells": [
  {
   "cell_type": "markdown",
   "metadata": {},
   "source": [
    "# Today in ATX\n",
    "\n",
    "#### Scrape Austin 512 site for events occurring within the next week. Locate parking near the event and provide data on weather. \n",
    "\n",
    "##Data Sources\n",
    "### Austin 512\n",
    " Scrape site for events (7 days) <br>\n",
    " •\tVenue <br>\n",
    " •\tStart time <br>\n",
    " •\tEvent name <br>\n",
    "\n",
    "### Parkme \n",
    " Scrape site for parking near event <br>\n",
    " •\tUse venues from Austin 512 to link parking <br>\n",
    " •\tFind the closest parking near the venue <br>\n",
    "\n",
    "### Weather.com\n",
    "Scrape site for weather <br>\n",
    "•\tUse datetime from Austin 512 link <br>\n",
    "•\tFind weather based on date <br>\n",
    "\n",
    "##\n",
    "\n",
    "##Extraction\n",
    "Extract data from site by transforming tables and scraping sites. <br>\n",
    "<br>\n",
    "Challenges <br>\n",
    "1. Close attention to the urls. They changed or were hidden depending on what page it's currently on. <br>\n",
    "2. Navigating a site to end on the correct page where the data was placed (buttons without text) <br>\n",
    "3. Long wait time for data to load in \n",
    "\n",
    "\n",
    "##Transform <br>\n",
    "Transform and clean the data. <br>\n",
    "<br>\n",
    "Challenges <br>\n",
    "1. After pulling all the data, a lot of the results were lists of lists. Separating and determining how <br>\n",
    "the information would be pulled in posed a great challenge. \n",
    "2. Placing the data into a dataframe often resulted in undesired columns. <br>\n",
    "3. Formatting the columns and manipulating functions to pull data in a format needed for the dataframe \n",
    "\n",
    "###Load\n",
    "1. Initially, 5 parking options were available per venue, but this showed some difficulty in sql. <br>\n",
    "Attempting to merge all dataframes and loading it into mongo reuslted in a crash. \n",
    "2. Columns that need to be deleted etc. results in some error when trying to rerun the code \n",
    "\n",
    "\n",
    "\n"
   ]
  },
  {
   "cell_type": "code",
   "execution_count": null,
   "metadata": {},
   "outputs": [],
   "source": []
  }
 ],
 "metadata": {
  "kernelspec": {
   "display_name": "Python [conda env:PythonData]",
   "language": "python",
   "name": "pythondata"
  },
  "language_info": {
   "codemirror_mode": {
    "name": "ipython",
    "version": 3
   },
   "file_extension": ".py",
   "mimetype": "text/x-python",
   "name": "python",
   "nbconvert_exporter": "python",
   "pygments_lexer": "ipython3",
   "version": "3.7.1"
  }
 },
 "nbformat": 4,
 "nbformat_minor": 2
}
